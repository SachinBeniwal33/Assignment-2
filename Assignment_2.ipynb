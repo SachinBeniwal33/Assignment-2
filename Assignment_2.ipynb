{
 "cells": [
  {
   "cell_type": "code",
   "execution_count": 1,
   "id": "c8a42895",
   "metadata": {},
   "outputs": [
    {
     "name": "stdout",
     "output_type": "stream",
     "text": [
      "Enter your first name: sachin\n",
      "Enter your last name: beniwal\n",
      "sachin beniwal\n",
      "Enter the string: good evening\n",
      "go vnn\n"
     ]
    }
   ],
   "source": [
    "def full_name(s, s1):\n",
    "  return s + \" \" + s1\n",
    "\n",
    "def string_alternative(s2):\n",
    "  return s2[::2]\n",
    "\n",
    "\n",
    "a = input(\"Enter your first name: \")\n",
    "b = input(\"Enter your last name: \")\n",
    "print(full_name(a, b))\n",
    "\n",
    "c = input(\"Enter the string: \")\n",
    "print(string_alternative(c))"
   ]
  },
  {
   "cell_type": "code",
   "execution_count": 2,
   "id": "60bd5bb7",
   "metadata": {},
   "outputs": [],
   "source": [
    "with open('input.txt', 'r') as reader:\n",
    "  l = []\n",
    "  for line in reader.readlines():\n",
    "    l += list(map(str.strip, line.split(\" \")))\n",
    "\n",
    "dic = {}\n",
    "for i in l:\n",
    "  if i in dic.keys():\n",
    "    dic[i] += 1\n",
    "  else:\n",
    "    dic[i] = 1\n",
    "\n",
    "with open('output.txt', 'w') as writer:\n",
    "    for word, value in dic.items():\n",
    "        writer.write(word + \": \" + str(value) + \"\\n\")\n",
    "    writer.close()"
   ]
  },
  {
   "cell_type": "code",
   "execution_count": 3,
   "id": "d28fdb25",
   "metadata": {},
   "outputs": [
    {
     "name": "stdout",
     "output_type": "stream",
     "text": [
      "150 155 145 148\n",
      "[381.0, 393.7, 368.3, 375.92]\n",
      "[381.0, 393.7, 368.3, 375.92]\n"
     ]
    }
   ],
   "source": [
    "l = list(map(int, input().split()))\n",
    "\n",
    "s = []\n",
    "for i in l:\n",
    "  s.append(2.54*i)\n",
    "print(s)\n",
    "\n",
    "nl = [2.54*x for x in l]\n",
    "print(nl)"
   ]
  },
  {
   "cell_type": "code",
   "execution_count": null,
   "id": "9850a14b",
   "metadata": {},
   "outputs": [],
   "source": []
  }
 ],
 "metadata": {
  "kernelspec": {
   "display_name": "Python 3 (ipykernel)",
   "language": "python",
   "name": "python3"
  },
  "language_info": {
   "codemirror_mode": {
    "name": "ipython",
    "version": 3
   },
   "file_extension": ".py",
   "mimetype": "text/x-python",
   "name": "python",
   "nbconvert_exporter": "python",
   "pygments_lexer": "ipython3",
   "version": "3.11.4"
  }
 },
 "nbformat": 4,
 "nbformat_minor": 5
}
